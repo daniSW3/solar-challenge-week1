{
 "cells": [
  {
   "cell_type": "markdown",
   "id": "c21e3a06",
   "metadata": {},
   "source": [
    "Packages"
   ]
  },
  {
   "cell_type": "code",
   "execution_count": 8,
   "id": "6e7c926d",
   "metadata": {},
   "outputs": [],
   "source": [
    "import pandas as pd\n",
    "import matplotlib.pyplot as plt\n",
    "import seaborn as sns\n",
    "from scipy.stats import f_oneway, kruskal"
   ]
  },
  {
   "cell_type": "markdown",
   "id": "cce55b38",
   "metadata": {},
   "source": [
    "#Load Dataset"
   ]
  },
  {
   "cell_type": "code",
   "execution_count": 10,
   "id": "fd3e46b9",
   "metadata": {},
   "outputs": [],
   "source": [
    "import pandas as pd\n",
    "\n",
    "benin = pd.read_csv(r'C:/Users/Daniel.Temesgen/Desktop/tutorial/kalm-week-0/solar-challenge-week1/datas/benin-malanville.csv')\n",
    "sierra_leone = pd.read_csv(r'C:/Users/Daniel.Temesgen/Desktop/tutorial/kalm-week-0/solar-challenge-week1/datas/sierraleone-bumbuna.csv')\n",
    "togo = pd.read_csv(r'C:/Users/Daniel.Temesgen/Desktop/tutorial/kalm-week-0/solar-challenge-week1/datas/togo-dapaong_qc.csv')"
   ]
  },
  {
   "cell_type": "markdown",
   "id": "2d346486",
   "metadata": {},
   "source": [
    "# Add a 'Country' column to each dataset for identification"
   ]
  },
  {
   "cell_type": "code",
   "execution_count": 11,
   "id": "fc9142e2",
   "metadata": {},
   "outputs": [],
   "source": [
    "benin['Country'] = 'Benin'\n",
    "sierra_leone['Country'] = 'Sierra Leone'\n",
    "togo['Country'] = 'Togo'"
   ]
  },
  {
   "cell_type": "markdown",
   "id": "0703e3e8",
   "metadata": {},
   "source": [
    "# Combine datasets for easier plotting"
   ]
  },
  {
   "cell_type": "code",
   "execution_count": 12,
   "id": "60fc84c6",
   "metadata": {},
   "outputs": [],
   "source": [
    "data = pd.concat([benin, sierra_leone, togo], ignore_index=True)"
   ]
  },
  {
   "cell_type": "code",
   "execution_count": 13,
   "id": "3cc0e849",
   "metadata": {},
   "outputs": [
    {
     "data": {
      "text/html": [
       "<div>\n",
       "<style scoped>\n",
       "    .dataframe tbody tr th:only-of-type {\n",
       "        vertical-align: middle;\n",
       "    }\n",
       "\n",
       "    .dataframe tbody tr th {\n",
       "        vertical-align: top;\n",
       "    }\n",
       "\n",
       "    .dataframe thead th {\n",
       "        text-align: right;\n",
       "    }\n",
       "</style>\n",
       "<table border=\"1\" class=\"dataframe\">\n",
       "  <thead>\n",
       "    <tr style=\"text-align: right;\">\n",
       "      <th></th>\n",
       "      <th>Timestamp</th>\n",
       "      <th>GHI</th>\n",
       "      <th>DNI</th>\n",
       "      <th>DHI</th>\n",
       "      <th>ModA</th>\n",
       "      <th>ModB</th>\n",
       "      <th>Tamb</th>\n",
       "      <th>RH</th>\n",
       "      <th>WS</th>\n",
       "      <th>WSgust</th>\n",
       "      <th>WSstdev</th>\n",
       "      <th>WD</th>\n",
       "      <th>WDstdev</th>\n",
       "      <th>BP</th>\n",
       "      <th>Cleaning</th>\n",
       "      <th>Precipitation</th>\n",
       "      <th>TModA</th>\n",
       "      <th>TModB</th>\n",
       "      <th>Comments</th>\n",
       "      <th>Country</th>\n",
       "    </tr>\n",
       "  </thead>\n",
       "  <tbody>\n",
       "    <tr>\n",
       "      <th>0</th>\n",
       "      <td>2021-08-09 00:01</td>\n",
       "      <td>-1.2</td>\n",
       "      <td>-0.2</td>\n",
       "      <td>-1.1</td>\n",
       "      <td>0.0</td>\n",
       "      <td>0.0</td>\n",
       "      <td>26.2</td>\n",
       "      <td>93.4</td>\n",
       "      <td>0.0</td>\n",
       "      <td>0.4</td>\n",
       "      <td>0.1</td>\n",
       "      <td>122.1</td>\n",
       "      <td>0.0</td>\n",
       "      <td>998</td>\n",
       "      <td>0</td>\n",
       "      <td>0.0</td>\n",
       "      <td>26.3</td>\n",
       "      <td>26.2</td>\n",
       "      <td>NaN</td>\n",
       "      <td>Benin</td>\n",
       "    </tr>\n",
       "    <tr>\n",
       "      <th>1</th>\n",
       "      <td>2021-08-09 00:02</td>\n",
       "      <td>-1.1</td>\n",
       "      <td>-0.2</td>\n",
       "      <td>-1.1</td>\n",
       "      <td>0.0</td>\n",
       "      <td>0.0</td>\n",
       "      <td>26.2</td>\n",
       "      <td>93.6</td>\n",
       "      <td>0.0</td>\n",
       "      <td>0.0</td>\n",
       "      <td>0.0</td>\n",
       "      <td>0.0</td>\n",
       "      <td>0.0</td>\n",
       "      <td>998</td>\n",
       "      <td>0</td>\n",
       "      <td>0.0</td>\n",
       "      <td>26.3</td>\n",
       "      <td>26.2</td>\n",
       "      <td>NaN</td>\n",
       "      <td>Benin</td>\n",
       "    </tr>\n",
       "    <tr>\n",
       "      <th>2</th>\n",
       "      <td>2021-08-09 00:03</td>\n",
       "      <td>-1.1</td>\n",
       "      <td>-0.2</td>\n",
       "      <td>-1.1</td>\n",
       "      <td>0.0</td>\n",
       "      <td>0.0</td>\n",
       "      <td>26.2</td>\n",
       "      <td>93.7</td>\n",
       "      <td>0.3</td>\n",
       "      <td>1.1</td>\n",
       "      <td>0.5</td>\n",
       "      <td>124.6</td>\n",
       "      <td>1.5</td>\n",
       "      <td>997</td>\n",
       "      <td>0</td>\n",
       "      <td>0.0</td>\n",
       "      <td>26.4</td>\n",
       "      <td>26.2</td>\n",
       "      <td>NaN</td>\n",
       "      <td>Benin</td>\n",
       "    </tr>\n",
       "    <tr>\n",
       "      <th>3</th>\n",
       "      <td>2021-08-09 00:04</td>\n",
       "      <td>-1.1</td>\n",
       "      <td>-0.1</td>\n",
       "      <td>-1.0</td>\n",
       "      <td>0.0</td>\n",
       "      <td>0.0</td>\n",
       "      <td>26.2</td>\n",
       "      <td>93.3</td>\n",
       "      <td>0.2</td>\n",
       "      <td>0.7</td>\n",
       "      <td>0.4</td>\n",
       "      <td>120.3</td>\n",
       "      <td>1.3</td>\n",
       "      <td>997</td>\n",
       "      <td>0</td>\n",
       "      <td>0.0</td>\n",
       "      <td>26.4</td>\n",
       "      <td>26.3</td>\n",
       "      <td>NaN</td>\n",
       "      <td>Benin</td>\n",
       "    </tr>\n",
       "    <tr>\n",
       "      <th>4</th>\n",
       "      <td>2021-08-09 00:05</td>\n",
       "      <td>-1.0</td>\n",
       "      <td>-0.1</td>\n",
       "      <td>-1.0</td>\n",
       "      <td>0.0</td>\n",
       "      <td>0.0</td>\n",
       "      <td>26.2</td>\n",
       "      <td>93.3</td>\n",
       "      <td>0.1</td>\n",
       "      <td>0.7</td>\n",
       "      <td>0.3</td>\n",
       "      <td>113.2</td>\n",
       "      <td>1.0</td>\n",
       "      <td>997</td>\n",
       "      <td>0</td>\n",
       "      <td>0.0</td>\n",
       "      <td>26.4</td>\n",
       "      <td>26.3</td>\n",
       "      <td>NaN</td>\n",
       "      <td>Benin</td>\n",
       "    </tr>\n",
       "  </tbody>\n",
       "</table>\n",
       "</div>"
      ],
      "text/plain": [
       "          Timestamp  GHI  DNI  DHI  ModA  ModB  Tamb    RH   WS  WSgust  \\\n",
       "0  2021-08-09 00:01 -1.2 -0.2 -1.1   0.0   0.0  26.2  93.4  0.0     0.4   \n",
       "1  2021-08-09 00:02 -1.1 -0.2 -1.1   0.0   0.0  26.2  93.6  0.0     0.0   \n",
       "2  2021-08-09 00:03 -1.1 -0.2 -1.1   0.0   0.0  26.2  93.7  0.3     1.1   \n",
       "3  2021-08-09 00:04 -1.1 -0.1 -1.0   0.0   0.0  26.2  93.3  0.2     0.7   \n",
       "4  2021-08-09 00:05 -1.0 -0.1 -1.0   0.0   0.0  26.2  93.3  0.1     0.7   \n",
       "\n",
       "   WSstdev     WD  WDstdev   BP  Cleaning  Precipitation  TModA  TModB  \\\n",
       "0      0.1  122.1      0.0  998         0            0.0   26.3   26.2   \n",
       "1      0.0    0.0      0.0  998         0            0.0   26.3   26.2   \n",
       "2      0.5  124.6      1.5  997         0            0.0   26.4   26.2   \n",
       "3      0.4  120.3      1.3  997         0            0.0   26.4   26.3   \n",
       "4      0.3  113.2      1.0  997         0            0.0   26.4   26.3   \n",
       "\n",
       "   Comments Country  \n",
       "0       NaN   Benin  \n",
       "1       NaN   Benin  \n",
       "2       NaN   Benin  \n",
       "3       NaN   Benin  \n",
       "4       NaN   Benin  "
      ]
     },
     "execution_count": 13,
     "metadata": {},
     "output_type": "execute_result"
    }
   ],
   "source": [
    "data.head()"
   ]
  },
  {
   "cell_type": "markdown",
   "id": "0f89b20b",
   "metadata": {},
   "source": [
    "## Boxplots of GHI, DNI, DHI by Country"
   ]
  },
  {
   "cell_type": "markdown",
   "id": "2f50b400",
   "metadata": {},
   "source": [
    "# Set up the plotting area\n"
   ]
  },
  {
   "cell_type": "code",
   "execution_count": 14,
   "id": "b3457be1",
   "metadata": {},
   "outputs": [
    {
     "data": {
      "text/plain": [
       "<Figure size 1500x500 with 0 Axes>"
      ]
     },
     "execution_count": 14,
     "metadata": {},
     "output_type": "execute_result"
    },
    {
     "data": {
      "text/plain": [
       "<Figure size 1500x500 with 0 Axes>"
      ]
     },
     "metadata": {},
     "output_type": "display_data"
    }
   ],
   "source": [
    "plt.figure(figsize=(15, 5))"
   ]
  },
  {
   "cell_type": "markdown",
   "id": "74b9d0ea",
   "metadata": {},
   "source": [
    "# GHI Boxplot"
   ]
  },
  {
   "cell_type": "code",
   "execution_count": 16,
   "id": "30db087c",
   "metadata": {},
   "outputs": [
    {
     "name": "stderr",
     "output_type": "stream",
     "text": [
      "C:\\Users\\Daniel.Temesgen\\AppData\\Local\\Temp\\ipykernel_34076\\2107132335.py:6: FutureWarning: \n",
      "\n",
      "Passing `palette` without assigning `hue` is deprecated and will be removed in v0.14.0. Assign the `x` variable to `hue` and set `legend=False` for the same effect.\n",
      "\n",
      "  sns.boxplot(x='Country', y='GHI', data=data, palette='Set2')\n",
      "C:\\Users\\Daniel.Temesgen\\AppData\\Local\\Temp\\ipykernel_34076\\2107132335.py:13: FutureWarning: \n",
      "\n",
      "Passing `palette` without assigning `hue` is deprecated and will be removed in v0.14.0. Assign the `x` variable to `hue` and set `legend=False` for the same effect.\n",
      "\n",
      "  sns.boxplot(x='Country', y='DNI', data=data, palette='Set2')\n",
      "C:\\Users\\Daniel.Temesgen\\AppData\\Local\\Temp\\ipykernel_34076\\2107132335.py:20: FutureWarning: \n",
      "\n",
      "Passing `palette` without assigning `hue` is deprecated and will be removed in v0.14.0. Assign the `x` variable to `hue` and set `legend=False` for the same effect.\n",
      "\n",
      "  sns.boxplot(x='Country', y='DHI', data=data, palette='Set2')\n"
     ]
    },
    {
     "data": {
      "image/png": "[encoded data removed]",
      "text/plain": [
       "<Figure size 1500x500 with 3 Axes>"
      ]
     },
     "metadata": {},
     "output_type": "display_data"
    }
   ],
   "source": [
    "# Set up the plotting area\n",
    "plt.figure(figsize=(15, 5))\n",
    "\n",
    "# GHI Boxplot\n",
    "plt.subplot(1, 3, 1)\n",
    "sns.boxplot(x='Country', y='GHI', data=data, palette='Set2')\n",
    "plt.title('GHI by Country')\n",
    "plt.xlabel('Country')\n",
    "plt.ylabel('GHI (W/m²)')\n",
    "\n",
    "# DNI Boxplot\n",
    "plt.subplot(1, 3, 2)\n",
    "sns.boxplot(x='Country', y='DNI', data=data, palette='Set2')\n",
    "plt.title('DNI by Country')\n",
    "plt.xlabel('Country')\n",
    "plt.ylabel('DNI (W/m²)')\n",
    "\n",
    "# DHI Boxplot\n",
    "plt.subplot(1, 3, 3)\n",
    "sns.boxplot(x='Country', y='DHI', data=data, palette='Set2')\n",
    "plt.title('DHI by Country')\n",
    "plt.xlabel('Country')\n",
    "plt.ylabel('DHI (W/m²)')\n",
    "\n",
    "plt.tight_layout()\n",
    "plt.show()"
   ]
  },
  {
   "cell_type": "code",
   "execution_count": null,
   "id": "2e3f8334",
   "metadata": {},
   "outputs": [],
   "source": [
    "## Summary Table of GHI, DNI, DHI Statistics"
   ]
  },
  {
   "cell_type": "code",
   "execution_count": 17,
   "id": "0155bcb2",
   "metadata": {},
   "outputs": [
    {
     "name": "stdout",
     "output_type": "stream",
     "text": [
      "              GHI_mean  GHI_median  GHI_std  DNI_mean  DNI_median  DNI_std  \\\n",
      "Country                                                                      \n",
      "Benin           240.56         1.8   331.13    167.19        -0.1   261.71   \n",
      "Sierra Leone    201.96         0.3   298.50    116.38        -0.1   218.65   \n",
      "Togo            230.56         2.1   322.53    151.26         0.0   250.96   \n",
      "\n",
      "              DHI_mean  DHI_median  DHI_std  \n",
      "Country                                      \n",
      "Benin           115.36         1.6   158.69  \n",
      "Sierra Leone    113.72        -0.1   158.95  \n",
      "Togo            116.44         2.5   156.52  \n"
     ]
    },
    {
     "data": {
      "text/html": [
       "<div>\n",
       "<style scoped>\n",
       "    .dataframe tbody tr th:only-of-type {\n",
       "        vertical-align: middle;\n",
       "    }\n",
       "\n",
       "    .dataframe tbody tr th {\n",
       "        vertical-align: top;\n",
       "    }\n",
       "\n",
       "    .dataframe thead th {\n",
       "        text-align: right;\n",
       "    }\n",
       "</style>\n",
       "<table border=\"1\" class=\"dataframe\">\n",
       "  <thead>\n",
       "    <tr style=\"text-align: right;\">\n",
       "      <th></th>\n",
       "      <th>GHI_mean</th>\n",
       "      <th>GHI_median</th>\n",
       "      <th>GHI_std</th>\n",
       "      <th>DNI_mean</th>\n",
       "      <th>DNI_median</th>\n",
       "      <th>DNI_std</th>\n",
       "      <th>DHI_mean</th>\n",
       "      <th>DHI_median</th>\n",
       "      <th>DHI_std</th>\n",
       "    </tr>\n",
       "    <tr>\n",
       "      <th>Country</th>\n",
       "      <th></th>\n",
       "      <th></th>\n",
       "      <th></th>\n",
       "      <th></th>\n",
       "      <th></th>\n",
       "      <th></th>\n",
       "      <th></th>\n",
       "      <th></th>\n",
       "      <th></th>\n",
       "    </tr>\n",
       "  </thead>\n",
       "  <tbody>\n",
       "    <tr>\n",
       "      <th>Benin</th>\n",
       "      <td>240.56</td>\n",
       "      <td>1.8</td>\n",
       "      <td>331.13</td>\n",
       "      <td>167.19</td>\n",
       "      <td>-0.1</td>\n",
       "      <td>261.71</td>\n",
       "      <td>115.36</td>\n",
       "      <td>1.6</td>\n",
       "      <td>158.69</td>\n",
       "    </tr>\n",
       "    <tr>\n",
       "      <th>Sierra Leone</th>\n",
       "      <td>201.96</td>\n",
       "      <td>0.3</td>\n",
       "      <td>298.50</td>\n",
       "      <td>116.38</td>\n",
       "      <td>-0.1</td>\n",
       "      <td>218.65</td>\n",
       "      <td>113.72</td>\n",
       "      <td>-0.1</td>\n",
       "      <td>158.95</td>\n",
       "    </tr>\n",
       "    <tr>\n",
       "      <th>Togo</th>\n",
       "      <td>230.56</td>\n",
       "      <td>2.1</td>\n",
       "      <td>322.53</td>\n",
       "      <td>151.26</td>\n",
       "      <td>0.0</td>\n",
       "      <td>250.96</td>\n",
       "      <td>116.44</td>\n",
       "      <td>2.5</td>\n",
       "      <td>156.52</td>\n",
       "    </tr>\n",
       "  </tbody>\n",
       "</table>\n",
       "</div>"
      ],
      "text/plain": [
       "              GHI_mean  GHI_median  GHI_std  DNI_mean  DNI_median  DNI_std  \\\n",
       "Country                                                                      \n",
       "Benin           240.56         1.8   331.13    167.19        -0.1   261.71   \n",
       "Sierra Leone    201.96         0.3   298.50    116.38        -0.1   218.65   \n",
       "Togo            230.56         2.1   322.53    151.26         0.0   250.96   \n",
       "\n",
       "              DHI_mean  DHI_median  DHI_std  \n",
       "Country                                      \n",
       "Benin           115.36         1.6   158.69  \n",
       "Sierra Leone    113.72        -0.1   158.95  \n",
       "Togo            116.44         2.5   156.52  "
      ]
     },
     "execution_count": 17,
     "metadata": {},
     "output_type": "execute_result"
    }
   ],
   "source": [
    "# Calculate statistics\n",
    "summary = data.groupby('Country')[['GHI', 'DNI', 'DHI']].agg(['mean', 'median', 'std']).round(2)\n",
    "\n",
    "# Flatten column names for better readability\n",
    "summary.columns = [f'{metric}_{stat}' for metric, stat in summary.columns]\n",
    "print(summary)\n",
    "\n",
    "# Optionally, display as a formatted table in the notebook\n",
    "summary"
   ]
  },
  {
   "cell_type": "markdown",
   "id": "af54160e",
   "metadata": {},
   "source": [
    "## Statistical Testing"
   ]
  },
  {
   "cell_type": "code",
   "execution_count": 18,
   "id": "bc692851",
   "metadata": {},
   "outputs": [
    {
     "name": "stdout",
     "output_type": "stream",
     "text": [
      "ANOVA p-value for GHI: 0.0000\n",
      "Kruskal-Wallis p-value for GHI: 0.0000\n"
     ]
    }
   ],
   "source": [
    "# Extract GHI values for each country\n",
    "ghi_benin = benin['GHI']\n",
    "ghi_sierra_leone = sierra_leone['GHI']\n",
    "ghi_togo = togo['GHI']\n",
    "\n",
    "# Perform one-way ANOVA\n",
    "anova_stat, anova_p = f_oneway(ghi_benin, ghi_sierra_leone, ghi_togo)\n",
    "print(f\"ANOVA p-value for GHI: {anova_p:.4f}\")\n",
    "\n",
    "# Optional: Kruskal-Wallis test (non-parametric alternative)\n",
    "kruskal_stat, kruskal_p = kruskal(ghi_benin, ghi_sierra_leone, ghi_togo)\n",
    "print(f\"Kruskal-Wallis p-value for GHI: {kruskal_p:.4f}\")"
   ]
  },
  {
   "cell_type": "markdown",
   "id": "f38b06d3",
   "metadata": {},
   "source": [
    "## Key Observations\n",
    "\n",
    "- **Highest GHI**: [Country with highest median GHI from boxplot, e.g., Benin] shows the highest median GHI, indicating strong solar potential, but [note variability, e.g., high spread in boxplot] suggests inconsistent conditions.\n",
    "- **DNI Variability**: [Country, e.g., Sierra Leone] has the highest median DNI, but its standard deviation ([value from summary table]) is larger, indicating more variable direct solar radiation.\n",
    "- **Significant Differences**: The ANOVA p-value ([insert p-value]) suggests [significant/no significant] differences in GHI across countries, implying [e.g., geographical or climatic factors may drive differences]."
   ]
  },
  {
   "cell_type": "markdown",
   "id": "7ef302bb",
   "metadata": {},
   "source": [
    "## Bonus: Average GHI Ranking"
   ]
  },
  {
   "cell_type": "code",
   "execution_count": 19,
   "id": "9261e48a",
   "metadata": {},
   "outputs": [
    {
     "name": "stderr",
     "output_type": "stream",
     "text": [
      "C:\\Users\\Daniel.Temesgen\\AppData\\Local\\Temp\\ipykernel_34076\\592523404.py:6: FutureWarning: \n",
      "\n",
      "Passing `palette` without assigning `hue` is deprecated and will be removed in v0.14.0. Assign the `x` variable to `hue` and set `legend=False` for the same effect.\n",
      "\n",
      "  sns.barplot(x=avg_ghi.index, y=avg_ghi.values, palette='Set2')\n"
     ]
    },
    {
     "data": {
      "image/png": "[encoded data removed]",
      "text/plain": [
       "<Figure size 800x500 with 1 Axes>"
      ]
     },
     "metadata": {},
     "output_type": "display_data"
    }
   ],
   "source": [
    "# Calculate average GHI by country\n",
    "avg_ghi = data.groupby('Country')['GHI'].mean().sort_values()\n",
    "\n",
    "# Create bar chart\n",
    "plt.figure(figsize=(8, 5))\n",
    "sns.barplot(x=avg_ghi.index, y=avg_ghi.values, palette='Set2')\n",
    "plt.title('Average GHI by Country')\n",
    "plt.xlabel('Country')\n",
    "plt.ylabel('Average GHI (W/m²)')\n",
    "plt.show()"
   ]
  }
 ],
 "metadata": {
  "kernelspec": {
   "display_name": "venv",
   "language": "python",
   "name": "python3"
  },
  "language_info": {
   "codemirror_mode": {
    "name": "ipython",
    "version": 3
   },
   "file_extension": ".py",
   "mimetype": "text/x-python",
   "name": "python",
   "nbconvert_exporter": "python",
   "pygments_lexer": "ipython3",
   "version": "3.13.2"
  }
 },
 "nbformat": 4,
 "nbformat_minor": 5
}
